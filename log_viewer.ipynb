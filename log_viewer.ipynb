{
 "cells": [
  {
   "cell_type": "markdown",
   "metadata": {},
   "source": [
    "# Code to view logs"
   ]
  },
  {
   "cell_type": "code",
   "execution_count": null,
   "metadata": {},
   "outputs": [],
   "source": [
    "import graphs\n",
    "import pet\n",
    "import matplotlib.pyplot as plt\n",
    "log = pet.Log('processed_las/30015207330000_processed.las')\n",
    "viewer = graphs.LogViewer(log, top = 0, height = 13000,\n",
    "                       template_defaults = 'multimin_gas')\n",
    "\n",
    "# set viewer to 17x11 inches size for use in #\n",
    "# PowerPoint or printing to larger paper     #\n",
    "\n",
    "#viewer.fig.set_size_inches(17, 11)\n",
    "\n",
    "# add well_name to title of LogViewer        #\n",
    "\n",
    "viewer.fig.suptitle(log.well['API'].value, fontweight = 'bold', fontsize = 30)\n",
    "\n",
    "# add logo to top left corner                 #\n",
    "\n",
    "logo_im = plt.imread('data/company_logo.png')\n",
    "logo_ax = viewer.fig.add_axes([0, 0.85, 0.2, 0.2])\n",
    "logo_ax.imshow(logo_im)\n",
    "logo_ax.axis('off')\n",
    "\n",
    "# add text to top right corner                #\n",
    "\n",
    "if len(str(log.well['UWI'].value)) > 0:\n",
    "    label = 'UWI: ' + str(log.well['UWI'].value) + '\\n'\n",
    "elif len(log.well['API'].value) > 0:\n",
    "    label = 'API: ' + str(log.well['API'].value) + '\\n'\n",
    "else:\n",
    "    label = ''\n",
    "\n",
    "\n",
    "label = ''\n",
    "label += f\"Company Name: {log.well.COMP.value}\\n\"\n",
    "label += f\"Well Name: {log.well.WELL.value}\\n\"\n",
    "label += f\"Field: {log.well.FLD.value}\\n\"\n",
    "label += f\"County: {log.well.CNTY.value}\\n\"\n",
    "label += f\"State: {log.well.STAT.value}\\n\"\n",
    "label += f\"Country: {log.well.CTRY.value}\\n\"\n",
    "label += 'Created By apatil\\n'\n",
    "\n",
    "viewer.axes[0].annotate(label, xy = (0.99,0.99),\n",
    "                    xycoords = 'figure fraction',\n",
    "                    horizontalalignment = 'right',\n",
    "                    verticalalignment = 'top',\n",
    "                    fontsize = 14)\n",
    "viewer.show()"
   ]
  },
  {
   "cell_type": "code",
   "execution_count": null,
   "metadata": {},
   "outputs": [],
   "source": []
  }
 ],
 "metadata": {
  "kernelspec": {
   "display_name": "Python 3",
   "language": "python",
   "name": "python3"
  },
  "language_info": {
   "codemirror_mode": {
    "name": "ipython",
    "version": 3
   },
   "file_extension": ".py",
   "mimetype": "text/x-python",
   "name": "python",
   "nbconvert_exporter": "python",
   "pygments_lexer": "ipython3",
   "version": "3.10.11"
  },
  "orig_nbformat": 4
 },
 "nbformat": 4,
 "nbformat_minor": 2
}
