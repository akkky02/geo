{
 "cells": [
  {
   "cell_type": "markdown",
   "metadata": {},
   "source": [
    "# Code to view logs"
   ]
  },
  {
   "cell_type": "code",
   "execution_count": 1,
   "metadata": {},
   "outputs": [
    {
     "name": "stderr",
     "output_type": "stream",
     "text": [
      "c:\\Users\\apatil\\OneDrive - Silver Hill\\Documents\\Git\\geo\\graphs.py:20: UserWarning: Treat the new Tool classes introduced in v1.5 as experimental for now; the API and rcParam may change in future versions.\n",
      "  plt.rcParams['toolbar'] = 'toolmanager'\n"
     ]
    }
   ],
   "source": [
    "import graphs\n",
    "import pet\n",
    "import matplotlib.pyplot as plt\n",
    "log = pet.Log('S:/SQL/Geology/GeoLASAnalytics/geo/TEST_PE_PROCESSED/30015207770000_processed.las')\n",
    "viewer = graphs.LogViewer(log, top = 0, height = 13000,\n",
    "                       template_defaults = 'multimin_gas')\n",
    "\n",
    "# set viewer to 17x11 inches size for use in #\n",
    "# PowerPoint or printing to larger paper     #\n",
    "\n",
    "#viewer.fig.set_size_inches(17, 11)\n",
    "\n",
    "# add well_name to title of LogViewer        #\n",
    "\n",
    "viewer.fig.suptitle(log.well['API'].value, fontweight = 'bold', fontsize = 30)\n",
    "\n",
    "# add logo to top left corner                 #\n",
    "\n",
    "logo_im = plt.imread('data/company_logo.png')\n",
    "logo_ax = viewer.fig.add_axes([0, 0.85, 0.2, 0.2])\n",
    "logo_ax.imshow(logo_im)\n",
    "logo_ax.axis('off')\n",
    "\n",
    "# add text to top right corner                #\n",
    "\n",
    "if len(str(log.well['UWI'].value)) > 0:\n",
    "    label = 'UWI: ' + str(log.well['UWI'].value) + '\\n'\n",
    "elif len(log.well['API'].value) > 0:\n",
    "    label = 'API: ' + str(log.well['API'].value) + '\\n'\n",
    "else:\n",
    "    label = ''\n",
    "\n",
    "label += 'County: Reagan\\nCreated By apatil\\n'\n",
    "label += 'Creation Date: October 23, 2017'\n",
    "viewer.axes[0].annotate(label, xy = (0.99,0.99),\n",
    "                    xycoords = 'figure fraction',\n",
    "                    horizontalalignment = 'right',\n",
    "                    verticalalignment = 'top',\n",
    "                    fontsize = 14)\n",
    "viewer.show()"
   ]
  },
  {
   "cell_type": "code",
   "execution_count": null,
   "metadata": {},
   "outputs": [],
   "source": []
  }
 ],
 "metadata": {
  "kernelspec": {
   "display_name": "Python 3",
   "language": "python",
   "name": "python3"
  },
  "language_info": {
   "codemirror_mode": {
    "name": "ipython",
    "version": 3
   },
   "file_extension": ".py",
   "mimetype": "text/x-python",
   "name": "python",
   "nbconvert_exporter": "python",
   "pygments_lexer": "ipython3",
   "version": "3.10.11"
  },
  "orig_nbformat": 4
 },
 "nbformat": 4,
 "nbformat_minor": 2
}
