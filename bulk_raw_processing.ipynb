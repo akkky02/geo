{
 "cells": [
  {
   "cell_type": "markdown",
   "metadata": {},
   "source": [
    "# Code to run precondition"
   ]
  },
  {
   "cell_type": "code",
   "execution_count": 1,
   "metadata": {},
   "outputs": [
    {
     "name": "stdout",
     "output_type": "stream",
     "text": [
      "An error occurred while processing raw_las\\42317336160000_NESTE-SLIMLINE_1.las: None of the curves from the standard_curves list are present in the data.\n"
     ]
    }
   ],
   "source": [
    "import logging\n",
    "import warnings\n",
    "import pet\n",
    "import glob\n",
    "\n",
    "# Configure the logger\n",
    "logging.basicConfig(level=logging.ERROR, filename='error_log\\error.log',\n",
    "                    format='%(asctime)s - %(message)s')\n",
    "\n",
    "# Ignore warnings\n",
    "warnings.filterwarnings(\"ignore\")\n",
    "\n",
    "#edited_las_folder = r'wfmp_edited_las/'\n",
    "raw_las_folder = r'raw_las/'\n",
    "las_files = glob.glob(raw_las_folder + r'*.las')\n",
    "\n",
    "processed_logs = []\n",
    "\n",
    "for las_file in las_files:\n",
    "    try:\n",
    "        log = pet.Log(las_file)\n",
    "\n",
    "        # comment out transformation not needed\n",
    "        # log.precondition(drho_matrix = 2.71, n = 15) make changes as needed\n",
    "        # drho_matrix : float, optional\n",
    "        # drho_matrix is for converting density porosity to bulk\n",
    "        # densty, and is only used when bulk density is missing.\n",
    "        # Default value for limestone matrix. If log was run on\n",
    "        # sandstone matrix, use 2.65. If log was run on dolomite\n",
    "        # matrix, use 2.85.\n",
    "\n",
    "        log.precondition(n=5)\n",
    "\n",
    "        processed_logs.append(log)\n",
    "\n",
    "        # Get the well name from the log object\n",
    "        well_name = log.well['UWI'].value.replace('.', '')\n",
    "\n",
    "        # Create the new filename\n",
    "        edited_las_file = f'edited_las/{well_name}_edited.las'\n",
    "\n",
    "        # Write the processed log to the new filename\n",
    "        log.write(edited_las_file)\n",
    "    except Exception as e:\n",
    "        print(f\"An error occurred while processing {las_file}: {str(e)}\")\n",
    "        logging.error(f\"An error occurred while processing {las_file}: {str(e)}\")\n",
    "        continue"
   ]
  },
  {
   "cell_type": "markdown",
   "metadata": {},
   "source": [
    "# Code to run fluid_properties"
   ]
  },
  {
   "cell_type": "code",
   "execution_count": 2,
   "metadata": {},
   "outputs": [],
   "source": [
    "import logging\n",
    "import warnings\n",
    "import pet\n",
    "import glob\n",
    "\n",
    "# Configure the logger\n",
    "logging.basicConfig(level=logging.ERROR, filename='error_log\\error.log',\n",
    "                    format='%(asctime)s - %(message)s')\n",
    "\n",
    "# Ignore warnings\n",
    "warnings.filterwarnings(\"ignore\")\n",
    "\n",
    "#edited_las_folder = r'wfmp_edited_las/'\n",
    "edited_las_folder = r'edited_las/'\n",
    "las_files = glob.glob(edited_las_folder + r'*.las')\n",
    "\n",
    "processed_logs = []\n",
    "\n",
    "for las_file in las_files:\n",
    "    try:\n",
    "        log = pet.Log(las_file)\n",
    "\n",
    "        log.fluid_properties()\n",
    "        log.multimineral_model()\n",
    "        \n",
    "        processed_logs.append(log)\n",
    "\n",
    "        # Get the well name from the log object\n",
    "        well_name = log.well['UWI'].value.replace('.', '')\n",
    "\n",
    "        # Create the new filename\n",
    "        processed_las_file = f'processed_las/{well_name}_processed.las'\n",
    "\n",
    "        # Write the processed log to the new filename\n",
    "        log.write(processed_las_file)\n",
    "    except Exception as e:\n",
    "        print(f\"An error occurred while processing {las_file}: {str(e)}\")\n",
    "        logging.error(f\"An error occurred while processing {las_file}: {str(e)}\")\n",
    "        continue"
   ]
  },
  {
   "cell_type": "code",
   "execution_count": null,
   "metadata": {},
   "outputs": [],
   "source": []
  }
 ],
 "metadata": {
  "kernelspec": {
   "display_name": "Python 3",
   "language": "python",
   "name": "python3"
  },
  "language_info": {
   "codemirror_mode": {
    "name": "ipython",
    "version": 3
   },
   "file_extension": ".py",
   "mimetype": "text/x-python",
   "name": "python",
   "nbconvert_exporter": "python",
   "pygments_lexer": "ipython3",
   "version": "3.10.11"
  },
  "orig_nbformat": 4
 },
 "nbformat": 4,
 "nbformat_minor": 2
}
