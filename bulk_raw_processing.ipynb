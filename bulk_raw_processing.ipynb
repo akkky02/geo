{
 "cells": [
  {
   "cell_type": "markdown",
   "metadata": {},
   "source": [
    "# Code to run precondition"
   ]
  },
  {
   "cell_type": "code",
   "execution_count": 1,
   "metadata": {},
   "outputs": [],
   "source": [
    "import logging\n",
    "import warnings\n",
    "import pet\n",
    "import glob\n",
    "\n",
    "# Configure the logger\n",
    "logging.basicConfig(level=logging.ERROR, filename='error_log\\error.log',\n",
    "                    format='%(asctime)s - %(message)s')\n",
    "\n",
    "# Ignore warnings\n",
    "warnings.filterwarnings(\"ignore\")\n",
    "\n",
    "#edited_las_folder = r'wfmp_edited_las/'\n",
    "raw_las_folder = r'raw_las/'\n",
    "las_files = glob.glob(raw_las_folder + r'*.las')\n",
    "\n",
    "processed_logs = []\n",
    "\n",
    "for las_file in las_files:\n",
    "    try:\n",
    "        log = pet.Log(las_file)\n",
    "\n",
    "        # comment out transformation not needed\n",
    "        # log.precondition(drho_matrix = 2.71, n = 15) make changes as needed\n",
    "        # drho_matrix : float, optional\n",
    "        # drho_matrix is for converting density porosity to bulk\n",
    "        # densty, and is only used when bulk density is missing.\n",
    "        # Default value for limestone matrix. If log was run on\n",
    "        # sandstone matrix, use 2.65. If log was run on dolomite\n",
    "        # matrix, use 2.85.\n",
    "\n",
    "        log.precondition(n=5)\n",
    "\n",
    "        processed_logs.append(log)\n",
    "\n",
    "        # Get the well name from the log object\n",
    "        well_name = log.well['UWI'].value.replace('.', '')\n",
    "\n",
    "        # Create the new filename\n",
    "        edited_las_file = f'edited_las/{well_name}_edited.las'\n",
    "\n",
    "        # Write the processed log to the new filename\n",
    "        log.write(edited_las_file)\n",
    "    except Exception as e:\n",
    "        print(f\"An error occurred while processing {las_file}: {str(e)}\")\n",
    "        logging.error(f\"An error occurred while processing {las_file}: {str(e)}\")\n",
    "        continue"
   ]
  },
  {
   "cell_type": "markdown",
   "metadata": {},
   "source": [
    "# Code to run fluid_properties"
   ]
  },
  {
   "cell_type": "code",
   "execution_count": 1,
   "metadata": {},
   "outputs": [
    {
     "name": "stdout",
     "output_type": "stream",
     "text": [
      "An error occurred while processing edited_las\\30015213240000_edited.las: Raw curve NPHI not found and is                              required for multimineral_model.\n",
      "An error occurred while processing edited_las\\30015215210000_edited.las: Raw curve NPHI not found and is                              required for multimineral_model.\n",
      "An error occurred while processing edited_las\\30015219020000_edited.las: Raw curve GR not found and is                              required for multimineral_model.\n",
      "An error occurred while processing edited_las\\30015220190000_edited.las: Raw curve GR not found and is                              required for multimineral_model.\n"
     ]
    }
   ],
   "source": [
    "import logging\n",
    "import warnings\n",
    "import pet\n",
    "import glob\n",
    "\n",
    "# Configure the logger\n",
    "logging.basicConfig(level=logging.ERROR, filename='error_log\\error.log',\n",
    "                    format='%(asctime)s - %(message)s')\n",
    "\n",
    "# Ignore warnings\n",
    "warnings.filterwarnings(\"ignore\")\n",
    "\n",
    "#edited_las_folder = r'wfmp_edited_las/'\n",
    "edited_las_folder = r'edited_las/'\n",
    "las_files = glob.glob(edited_las_folder + r'*.las')\n",
    "\n",
    "processed_logs = []\n",
    "\n",
    "for las_file in las_files:\n",
    "    try:\n",
    "        log = pet.Log(las_file)\n",
    "\n",
    "        log.fluid_properties()\n",
    "        log.multimineral_model()\n",
    "        \n",
    "        processed_logs.append(log)\n",
    "\n",
    "        # Get the well name from the log object\n",
    "        well_name = log.well['UWI'].value.replace('.', '')\n",
    "\n",
    "        # Create the new filename\n",
    "        processed_las_file = f'processed_las/{well_name}_processed.las'\n",
    "\n",
    "        # Write the processed log to the new filename\n",
    "        log.write(processed_las_file)\n",
    "    except Exception as e:\n",
    "        print(f\"An error occurred while processing {las_file}: {str(e)}\")\n",
    "        logging.error(f\"An error occurred while processing {las_file}: {str(e)}\")\n",
    "        continue"
   ]
  },
  {
   "cell_type": "code",
   "execution_count": 2,
   "metadata": {},
   "outputs": [],
   "source": [
    "import logging\n",
    "import warnings\n",
    "import pet\n",
    "import glob\n",
    "import electrofacies as ef\n",
    "from tqdm import tqdm\n",
    "\n",
    "# Configure the logger\n",
    "logging.basicConfig(level=logging.ERROR, filename='error_log/error.log',\n",
    "                    format='%(asctime)s - %(message)s')\n",
    "\n",
    "# Ignore warnings\n",
    "warnings.filterwarnings(\"ignore\")\n",
    "\n",
    "edited_las_folder = r'C:\\Users\\apatil\\OneDrive - Silver Hill\\Documents\\LAS file Transformations\\Electrofacies Test\\\\'\n",
    "las_files = glob.glob(edited_las_folder + r'*.las')\n",
    "processed_logs = []\n",
    "\n",
    "# for las_file in tqdm(las_files, desc=\"Processing files\"):\n",
    "#     try:\n",
    "#         log = pet.Log(las_file)\n",
    "\n",
    "#         # log.precondition(n=7)\n",
    "#         # log.fluid_properties()\n",
    "#         # log.multimineral_model()\n",
    "#         ef.electrofacies(logs = [log])\n",
    "\n",
    "#         processed_logs.append(log)\n",
    "\n",
    "#         # Get the well name from the log object\n",
    "#         well_name = log.well['UWI'].value.replace('.', '')\n",
    "\n",
    "#         # Create the new filename\n",
    "#         processed_las_file = f'C:\\\\Users\\\\apatil\\\\OneDrive - Silver Hill\\\\Documents\\\\LAS file Transformations\\\\Electrofacies Test\\\\processed_las\\\\{well_name}_processed.las'\n",
    "\n",
    "#         # Write the processed log to the new filename\n",
    "#         log.write(processed_las_file)\n",
    "#     except Exception as e:\n",
    "#         print(f\"An error occurred while processing {las_file}: {str(e)}\")\n",
    "#         logging.error(f\"An error occurred while processing {las_file}: {str(e)}\")\n",
    "#         continue\n"
   ]
  },
  {
   "cell_type": "code",
   "execution_count": 2,
   "metadata": {},
   "outputs": [
    {
     "name": "stderr",
     "output_type": "stream",
     "text": [
      "Processing LAS files: 100%|██████████| 508/508 [1:00:22<00:00,  7.13s/it]\n"
     ]
    }
   ],
   "source": [
    "import os\n",
    "import logging\n",
    "import warnings\n",
    "import pet\n",
    "import glob\n",
    "import electrofacies as ef\n",
    "from tqdm import tqdm\n",
    "\n",
    "# Configure the logger\n",
    "logging.basicConfig(level=logging.ERROR, filename='error_log/error.log',\n",
    "                    format='%(asctime)s - %(message)s')\n",
    "\n",
    "# Ignore warnings\n",
    "warnings.filterwarnings(\"ignore\")\n",
    "\n",
    "edited_las_folder = r'S:\\SQL\\Geology\\GeoLASAnalytics\\geo\\processed_las\\Latest Mark Processed files\\\\'\n",
    "processed_folder = os.path.join(edited_las_folder, 'processed')  # Path for processed files\n",
    "\n",
    "if not os.path.exists(processed_folder):\n",
    "    os.makedirs(processed_folder)\n",
    "\n",
    "las_files = glob.glob(edited_las_folder + r'*.las')\n",
    "\n",
    "logs = [pet.Log(x) for x in las_files]\n",
    "\n",
    "# Combine logs and apply electrofacies to ensure consistent classes\n",
    "combined_logs = ef.electrofacies(logs=logs)\n",
    "\n",
    "for i, log in tqdm(enumerate(combined_logs), total=len(combined_logs), desc=\"Processing LAS files\"):\n",
    "    new_file_name = os.path.join(processed_folder, os.path.basename(las_files[i])[:-4] + '_with_EF.las')\n",
    "    log.write(new_file_name)\n"
   ]
  },
  {
   "cell_type": "code",
   "execution_count": 1,
   "metadata": {},
   "outputs": [
    {
     "name": "stderr",
     "output_type": "stream",
     "text": [
      "Processing LAS files: 100%|██████████| 12/12 [28:18<00:00, 141.53s/it]\n",
      "Applying Electrofacies: 100%|██████████| 12/12 [00:53<00:00,  4.48s/it]\n"
     ]
    }
   ],
   "source": [
    "import os\n",
    "import logging\n",
    "import warnings\n",
    "import pet\n",
    "import glob\n",
    "import electrofacies as ef\n",
    "from tqdm import tqdm\n",
    "\n",
    "# Configure the logger\n",
    "logging.basicConfig(level=logging.ERROR, filename='error_log/error.log',\n",
    "                    format='%(asctime)s - %(message)s')\n",
    "\n",
    "# Ignore warnings\n",
    "warnings.filterwarnings(\"ignore\")\n",
    "\n",
    "# Load and process logs with fluid properties and multimineral model\n",
    "edited_las_folder = r'C:\\Users\\apatil\\OneDrive - Silver Hill\\Documents\\LAS file Transformations\\Electrofacies Test\\\\'\n",
    "processed_folder = os.path.join(edited_las_folder, 'processed_las')  # Path for processed files\n",
    "\n",
    "if not os.path.exists(processed_folder):\n",
    "    os.makedirs(processed_folder)\n",
    "\n",
    "las_files = glob.glob(edited_las_folder + r'*.las')\n",
    "\n",
    "# Initialize a status bar for processing\n",
    "progress_bar = tqdm(total=len(las_files), desc=\"Processing LAS files\")\n",
    "\n",
    "for las_file in las_files:\n",
    "    try:\n",
    "        log = pet.Log(las_file)\n",
    "\n",
    "        log.fluid_properties()\n",
    "        log.multimineral_model()\n",
    "\n",
    "        # Get the well name from the log object\n",
    "        well_name = log.well['UWI'].value.replace('.', '')\n",
    "\n",
    "        # Create the new filename\n",
    "        processed_las_file = os.path.join(processed_folder, f'{well_name}_processed.las')\n",
    "\n",
    "        # Write the processed log to the new filename\n",
    "        log.write(processed_las_file)\n",
    "\n",
    "    except Exception as e:\n",
    "        print(f\"An error occurred while processing {las_file}: {str(e)}\")\n",
    "        logging.error(f\"An error occurred while processing {las_file}: {str(e)}\")\n",
    "\n",
    "    # Update the status bar\n",
    "    progress_bar.update()\n",
    "\n",
    "progress_bar.close()\n",
    "\n",
    "# Process logs with electrofacies\n",
    "processed_files = glob.glob(os.path.join(processed_folder, r'*.las'))\n",
    "\n",
    "logs = [pet.Log(x) for x in processed_files]\n",
    "\n",
    "# Initialize a status bar for electrofacies processing\n",
    "progress_bar_ef = tqdm(total=len(logs), desc=\"Applying Electrofacies\")\n",
    "\n",
    "# Combine logs and apply electrofacies to ensure consistent classes\n",
    "combined_logs = ef.electrofacies(logs=logs)\n",
    "\n",
    "for i, log in enumerate(combined_logs):\n",
    "    new_file_name = os.path.join(processed_folder, os.path.basename(processed_files[i])[:-4] + '_with_EF.las')\n",
    "    log.write(new_file_name)\n",
    "    progress_bar_ef.update()\n",
    "\n",
    "progress_bar_ef.close()\n"
   ]
  },
  {
   "cell_type": "code",
   "execution_count": 1,
   "metadata": {},
   "outputs": [
    {
     "name": "stderr",
     "output_type": "stream",
     "text": [
      "Processing LAS files:  25%|██▌       | 1/4 [00:00<00:01,  1.86it/s]"
     ]
    },
    {
     "name": "stdout",
     "output_type": "stream",
     "text": [
      "An error occurred while processing C:\\Users\\apatil\\OneDrive - Silver Hill\\Documents\\Git\\geo\\raw_las\\30015213240000_ROUND MOUNTAIN_1.las: Raw curve NPHI not found and is required for multimineral_model.\n"
     ]
    },
    {
     "name": "stderr",
     "output_type": "stream",
     "text": [
      "Processing LAS files: 100%|██████████| 4/4 [04:03<00:00, 60.95s/it]\n",
      "Applying Electrofacies: 100%|██████████| 3/3 [00:09<00:00,  3.07s/it]\n"
     ]
    }
   ],
   "source": [
    "import os\n",
    "import logging\n",
    "import warnings\n",
    "import pet\n",
    "import glob\n",
    "import electrofacies as ef\n",
    "from tqdm import tqdm\n",
    "\n",
    "# Configure the logger\n",
    "logging.basicConfig(level=logging.ERROR, filename='error_log/error.log',\n",
    "                    format='%(asctime)s - %(message)s')\n",
    "\n",
    "# Ignore warnings\n",
    "warnings.filterwarnings(\"ignore\")\n",
    "\n",
    "# Load and process logs with fluid properties and multimineral model\n",
    "edited_las_folder = r'C:\\Users\\apatil\\OneDrive - Silver Hill\\Documents\\Git\\geo\\raw_las\\\\'\n",
    "processed_folder = os.path.join(edited_las_folder, 'processed_las')  # Path for processed files\n",
    "\n",
    "if not os.path.exists(processed_folder):\n",
    "    os.makedirs(processed_folder)\n",
    "\n",
    "las_files = glob.glob(edited_las_folder + r'*.las')\n",
    "\n",
    "# Initialize a status bar for processing\n",
    "progress_bar = tqdm(total=len(las_files), desc=\"Processing LAS files\")\n",
    "\n",
    "processed_files = []\n",
    "\n",
    "for las_file in las_files:\n",
    "    try:\n",
    "        log = pet.Log(las_file)\n",
    "\n",
    "        # Apply precondition, fluid properties, and multimineral model\n",
    "        log.precondition()\n",
    "        log.fluid_properties()\n",
    "        log.multimineral_model()\n",
    "\n",
    "        # Get the well name from the log object\n",
    "        well_name = log.well['UWI'].value.replace('.', '')\n",
    "\n",
    "        # Create the new filename\n",
    "        processed_las_file = os.path.join(processed_folder, f'{well_name}_processed.las')\n",
    "\n",
    "        # Write the processed log to the new filename\n",
    "        log.write(processed_las_file)\n",
    "\n",
    "        processed_files.append(processed_las_file)\n",
    "\n",
    "    except Exception as e:\n",
    "        print(f\"An error occurred while processing {las_file}: {str(e)}\")\n",
    "        logging.error(f\"An error occurred while processing {las_file}: {str(e)}\")\n",
    "\n",
    "    # Update the status bar\n",
    "    progress_bar.update()\n",
    "\n",
    "progress_bar.close()\n",
    "\n",
    "# Process logs with electrofacies\n",
    "logs = [pet.Log(x) for x in processed_files]\n",
    "\n",
    "# Initialize a status bar for electrofacies processing\n",
    "progress_bar_ef = tqdm(total=len(logs), desc=\"Applying Electrofacies\")\n",
    "\n",
    "# Combine logs and apply electrofacies to ensure consistent classes\n",
    "combined_logs = ef.electrofacies(logs=logs)\n",
    "\n",
    "for i, log in enumerate(combined_logs):\n",
    "    new_file_name = os.path.join(processed_folder, os.path.basename(processed_files[i])[:-4] + '_with_EF.las')\n",
    "    log.write(new_file_name)\n",
    "    progress_bar_ef.update()\n",
    "\n",
    "progress_bar_ef.close()\n"
   ]
  },
  {
   "cell_type": "markdown",
   "metadata": {},
   "source": [
    "# Code to try create_log_inventory_table"
   ]
  },
  {
   "cell_type": "code",
   "execution_count": 4,
   "metadata": {},
   "outputs": [
    {
     "name": "stdout",
     "output_type": "stream",
     "text": [
      "\u001b[1;31mSignature:\u001b[0m \u001b[0mcreate_log_inventory_table\u001b[0m\u001b[1;33m(\u001b[0m\u001b[0msave_dir\u001b[0m\u001b[1;33m,\u001b[0m \u001b[0mfolder_copy\u001b[0m\u001b[1;33m=\u001b[0m\u001b[1;32mNone\u001b[0m\u001b[1;33m)\u001b[0m\u001b[1;33m\u001b[0m\u001b[1;33m\u001b[0m\u001b[0m\n",
      "\u001b[1;31mDocstring:\u001b[0m\n",
      "Scans all folders and subfolders (recursive scan) for las files,\n",
      "and opens them as a :class:`petropy.Log` object. Extracts header\n",
      "data and curve names. Returns DataFrame of data after saving to a\n",
      "csv file in the save_dir folder.\n",
      "\n",
      "Parameters\n",
      "----------\n",
      "save_dir : str\n",
      "    path to folder for recusive scan\n",
      "\n",
      "Returns\n",
      "-------\n",
      "df : :class:`pandas.DataFrame`\n",
      "    DataFrame of header data for all logs downloaded and read.\n",
      "\n",
      "Example\n",
      "-------\n",
      ">>> import petropy as ptr\n",
      ">>> p = r'path/to/folder/'\n",
      ">>> df = ptr.create_log_inventory_table(p)\n",
      ">>> # filter logs with triple-combo for processing\n",
      ">>> tc_df = df[df.GR_N == 'Y' & df.RESDEEP_N == 'Y' &\n",
      "...            df.NPHI_N == 'Y' & df.RHOB_N == 'Y']\n",
      ">>> # print count of useable logs\n",
      ">>> print(len(tc_df))\n",
      "\u001b[1;31mFile:\u001b[0m      c:\\users\\apatil\\onedrive - silver hill\\documents\\git\\geo\\download.py\n",
      "\u001b[1;31mType:\u001b[0m      function"
     ]
    }
   ],
   "source": [
    "from download import create_log_inventory_table\n",
    "\n",
    "create_log_inventory_table?"
   ]
  },
  {
   "cell_type": "code",
   "execution_count": 9,
   "metadata": {},
   "outputs": [],
   "source": [
    "df = create_log_inventory_table(r'S:\\SQL\\Geology\\FRANK\\42115')\n",
    "df"
   ]
  },
  {
   "cell_type": "code",
   "execution_count": 8,
   "metadata": {},
   "outputs": [
    {
     "data": {
      "text/plain": [
       "Index(['PATH', 'STRT', 'STOP', 'STEP', 'NULL', 'COMP', 'WELL', 'FLD', 'LOC',\n",
       "       'CNTY', 'STAT', 'CTRY', 'SRVC', 'DATE', 'API', 'UWI', 'XCOORD',\n",
       "       'YCOORD', 'LAT', 'LON', 'ELEV', 'ELEV_TYPE', 'DEPT', 'DENWS', 'DRESWS',\n",
       "       'GR', 'GRD', 'GRWS', 'ILD', 'LL8', 'NPHI:1', 'NPHI:2', 'NPHI_LS',\n",
       "       'NPOLSWS', 'RHOB', 'RHOBED', 'GRN', 'GRS', 'LLD', 'NPHI', 'NPHI__A',\n",
       "       'NPLS', 'RESD_LL', 'RESD_LL__A', 'RHOB__A', 'RHOM', 'GRR', 'CGR', 'DT',\n",
       "       'DT1', 'DT4P', 'DT4PED', 'DT4PR', 'DT4PRED', 'DT4PT', 'DT4PTED', 'DT4S',\n",
       "       'DT4SED', 'DT4SR', 'DT4SRED', 'DT4ST', 'DT4STED', 'DTCO', 'DTCOED',\n",
       "       'DTSM', 'DTWS', 'NEUTWS', 'PE', 'PEFWS', 'PEFZ', 'RHOZ', 'RLA5',\n",
       "       'TNPH_LS', 'PORE_PRESS', 'RES_TEMP', 'NES', 'RW', 'RMF', 'RHO_HC',\n",
       "       'RHO_W', 'RHO_MF', 'NPHI_HC', 'NPHI_W', 'NPHI_MF', 'MU_HC', 'BO', 'BP',\n",
       "       'FACIES'],\n",
       "      dtype='object')"
      ]
     },
     "execution_count": 8,
     "metadata": {},
     "output_type": "execute_result"
    }
   ],
   "source": [
    "df.to_csv('log_inventory.csv', index=False)"
   ]
  },
  {
   "cell_type": "code",
   "execution_count": 73,
   "metadata": {},
   "outputs": [],
   "source": [
    "import pandas as pd\n",
    "\n",
    "df = pd.read_csv(r'C:\\Users\\apatil\\Downloads\\log_inventory.csv',index_col=False,low_memory=False)"
   ]
  },
  {
   "cell_type": "code",
   "execution_count": 42,
   "metadata": {},
   "outputs": [
    {
     "data": {
      "text/plain": [
       "array(['4223932665000', nan, '422390220900000', '42-413-326720000',\n",
       "       '4220132062', '4220132375', '4220132038', '4218530340',\n",
       "       '421753335000', '4217011940000', '4215731732', '421570059400',\n",
       "       '421570102600', '421570003000000', '42-105-412050000',\n",
       "       '4229733541', '4227301085', '4227300883', '4226100248',\n",
       "       '4225500882', '422473199500', '422473156500', '4224701880000',\n",
       "       '422450021100000', '42-105-411330000', '422410025300',\n",
       "       '420893153100', '4208931604', '4208931510', '42-105-410850000',\n",
       "       '4208900127000', '420890005700', '42071027400000_', '14391',\n",
       "       '420473206500', '4204715470000', '420470126700', '4204700117',\n",
       "       '42-105-410720000', '4203902865', '420039028720000',\n",
       "       '420039014200000', '4202502648', '420150023000', '42-003-41591',\n",
       "       '4200730660', '4200530174', '1701100087', '67687', '4270330215',\n",
       "       '427084046800', '4270600022', '4270130001', '4270200003',\n",
       "       '4270200015', '427040007000', '427043000500', '4260130117',\n",
       "       '4270100002', '4248101702', '424810256200', '424570025600',\n",
       "       '424573011900', '4239131588', '4240330436', '42373300910000_',\n",
       "       '4235531270', '42457001990000_', '4240900372', '4240900525',\n",
       "       '4240900616', ':at', '42-495-33377', '42-495-33363',\n",
       "       '42-495-33354', '42-495-33346', '42-495-33295-0000',\n",
       "       '42-495-33272', '42-495-33270', '42-495-33261', '42-495-33261277',\n",
       "       '42-495-33260', '42-301-31379', '42-495-33259', '42-495-33257',\n",
       "       '42-495-33244', '42-495-33241', '42-495-33239', '42-495-33233',\n",
       "       '42-475-35700', '42-475-35659', '42-475-35634', '42-475-35593',\n",
       "       '42-475-35589', '42-475-35584', '42-475-35581', '42-475-35562',\n",
       "       '42-475-35516', '42-475-35506', '42-475-35504', '42-475-35484',\n",
       "       '42-475-35473', '42-475-35466', '42-475-35424', '42-475-35357',\n",
       "       '42-475-35353', '42 475 35352', '42-475-35352', '42-475-35282',\n",
       "       '42-475-35279', '42-475-35273', '42-475-35185', '42-475-35180',\n",
       "       '42-461-37183', '42-461-37029', '42-461-36943', '42-461-36810',\n",
       "       '42-461-36609', '42-461-36550', '42-461-36547', '42-461- 36467',\n",
       "       '42-461-36455', '42-461-36325', '424613629200', '42-461- 36242',\n",
       "       '42-461-36203', '42-461-35952', '42-461-35949', '42-461-35947',\n",
       "       '42-461-35639', '42-416-35462', '42-461-35332', '42-461-35316',\n",
       "       '42-461-35297', '42-461-35292', '42-461-35274', '42-461-35097',\n",
       "       '42-443-31331', '42-443-31299', '42-413-32763', '42-413-32746',\n",
       "       '42-413-32682', '42-413-32681', '42-413-32672', '42-413-326690000',\n",
       "       '42-413-32669', '42-413-32654', '42-413-32564', '42-413-32528',\n",
       "       '42-413-32487', '42-383-37347', '42-383-37288', '42-383-37251',\n",
       "       '42-383-37235', '42-383-37223', '42-383-37212', '-   -',\n",
       "       '42-383-37174', '42-383-37150', '42-383-37139', '42-383-37075',\n",
       "       '42-383-36898', '42-383-36897', '42-383-36896', '42-383-36617',\n",
       "       '42-383-36606', '42-383-36590', '42-383-36470', '42-383-36469',\n",
       "       '42-383-36261', '42-383-36226', '42-383-36201', '42-383-36177',\n",
       "       '42-383-36066', '42-383-36017', '42-383-35970', '42-383-35947',\n",
       "       '42-383-35905', '42-371-38802', '42-371-38416', '42-371-37746',\n",
       "       '42-317-36726', '42-317-36403', '42-317-36288', '42-317-36285',\n",
       "       '42-317-36119', '42-317-36011', '42-317-35947', '42-317-35926',\n",
       "       '42-105-412060000', '42-317-35856', '42-317-35835',\n",
       "       '42--317-35796', '42-317-35785', '42-317-35780', '42-317-35777',\n",
       "       '42-317-35776', '42-317-35775', '42-317-35768', '42-317-35747',\n",
       "       '42-317-35731', '42-317-35515', '42-317-35509', '42-317-35347',\n",
       "       '42-317-35271', '42-317-35244', '42-371-35243', '42-317-35138',\n",
       "       '42-317-35134', '42-317-35131', '42-317-35019', '42-317-35018',\n",
       "       '42-317-34986', '42-317-34957', '42-301-31458', '4230131458',\n",
       "       '42-301-31423', '42-301-31418', '42-301-31384-00', '42 301 31384',\n",
       "       '42-301-31262', '42-301-31185', '42-235-34734', '42-235-34733',\n",
       "       '42-235-34732', '42-235-34711', '42-235-34705', '42-235-34640-01',\n",
       "       '42-235-34624', '42-235-34621', '42-235-34607', '42-235-34591',\n",
       "       '42-235-34485', '42-235-34462', '42-165-37233', '42-165-36922',\n",
       "       '42-165-36887', '42-135-41231', '42-135-41230', '42-135-41099',\n",
       "       '42-135-41093', '42-135-41092', '42-135-41091', '42-135-41090',\n",
       "       '42-135-41087', '42-135-41080', '42-135-40315', '42-135-40264',\n",
       "       '42-135-40263', '42-135-40262', '42-135-39841', '42-135-39748',\n",
       "       '42-135-39746', '42-135-39745', '42-135-39744', '42-135-39743',\n",
       "       '42-135-39742', '42-135-39741', '42-135-39713', '42-135-39583',\n",
       "       '42-135-39542', '42-115-33292', '42-109-32287', '42-105-41285',\n",
       "       '42-105-41284', '42-105-412830000', '42-105-412550000',\n",
       "       '42-105-41252-01', '42-105-41251', '42-105-41245', '42-105-41244',\n",
       "       '42-105-412339', '42-105-41238', '42-105-41232', '42-105-41231',\n",
       "       '42-105-412240000', '42-105-41212', '42-105-412100000',\n",
       "       '42-105-41209', '42-105-41206', '42-105-41205', '42-105-41200',\n",
       "       '42-105-412000000', '42-105-41199', '42-105-41198', '42-105-41197',\n",
       "       '42-105-41174', '42-105-41173', '42-105-41171', '42-105-41156',\n",
       "       '42-105-41150', '42-105-41148', '42-105-41145', '42-105-41142',\n",
       "       '42-105-41135', '42-105-41134', '42-105-41133', '42-105-411300000',\n",
       "       '42-105-41088', '42-105-41085', '42-105-41084', '42-105-410710000',\n",
       "       '42-105-410690000', '42-105-41069', '42-105-41068',\n",
       "       '42-105-410680000', '42-105-41067', '42-105-410670000',\n",
       "       '42-105-41045', '42-105-41044', '42-105-41043', '42-105-41042',\n",
       "       '42-105-41015', '42-105-409980000', '42-105-40998', '42-105-40997',\n",
       "       '42-105-40991', '421054098700', '42-105-40987', '42-105-40974',\n",
       "       '42-105-40971', '42-105-40968', '42-105-40967', '41-105-40966',\n",
       "       '42-105-40956', '42-105-40953', '42-105-40952', '42-105-40937',\n",
       "       '42-105-40936', '42-105-409350000', '42-105-409340000',\n",
       "       '42-105-40931', '42-105-40912', '42-105-40908', '42-105-40906',\n",
       "       '42-105-40888', '42-105-40887', '42-105-40886', '42-105-40885',\n",
       "       '42-105-40796', '42-105-40795', '42-105-40794', '42-105-40793',\n",
       "       '42-105-40787', '42-105-40659', '42-105-40747', '42-105-40683',\n",
       "       '42-105-40677', '42-105-406770000', '42-105-40657', '42-105-40654',\n",
       "       '42-105-40599', '42-105-40532', '42-105-40527', '42-105-4057',\n",
       "       '42-105-40507', '42-105-40502', '42-105-40430', '42-105-40383',\n",
       "       '42-413-32465', '42-105-40340', '42-413-32464', '42-105-40410',\n",
       "       '42-105-40250', '4210540151', '42-103-35862', '42-103-35859',\n",
       "       '42-103-35856', '42-103-35854', '42-103-35841', '4210335831',\n",
       "       '42-103-35796', '4210335794', '42-103-35794', '42-103-35793',\n",
       "       '42-103-35792', '42-103-35782', '42-103-35781', '42-103-35780',\n",
       "       '4210335779', '42-103-35776', '42-103-35778-01', '42-103-35775',\n",
       "       '42-103-35773', '42-103-35769', '42-103-35766', '42-103-35725',\n",
       "       '42-103-35765', '42-103-35746', '42-103-35744', '42-103-35724',\n",
       "       '42-103-35719', '42-103-35501', '42-103-35500', '42-103-35423',\n",
       "       '42-103-35209', '4200343182', '4200343143', '4200343142',\n",
       "       '4200343141', '4200343139', '4200343108', '42-003-43066',\n",
       "       '42-003-43015', '42-003-42913', '42-003-42912', '42-003-42822',\n",
       "       '42-003-42790', '42-003-42764', '42-003-42688', '4200342676',\n",
       "       '42-003-42664', '42-003-42643', '42-003-42625', '42-003-42617',\n",
       "       '42-003-42611', '42-003-42610', '42-003-42594', '42-003-42592',\n",
       "       '42-003-42591', '42-003-42585', '42-003-42581', '42-003-42574',\n",
       "       '42-003-42570', '42-003-42561', '42-003-42557', '42-003-42556',\n",
       "       '42-003-42553', '42-003-42552', '42-003-42535', '4200342534',\n",
       "       '42-003-42527', '42-003-42520', '42-003-42493', '42-003-42473',\n",
       "       '42-003-42450', '42-003-42393', '4200342392', '42-003-42381',\n",
       "       '42-003-42380', '42-003-42376', '42-003-42353', '42-003-42352',\n",
       "       '42-003-42351', '42-003-42332', '42-003-42306', '42-003-42296',\n",
       "       '42-003-42294', '42-003-42293', '42-003-42292', '42-351-65489',\n",
       "       '42-003-42217', '42-003-42202', '42-003-42199', '42-003-42197',\n",
       "       '42-003-42195', '42-003-42196', '42-003-42194', '42-003-42193',\n",
       "       '42-003-42192', '42-003-42190', '42-003-42185', '42-003-42183',\n",
       "       '42-003-42182', '42-003-42176', '42-003-42167', '42-003-42115',\n",
       "       '42-003-42107', '42-003-42094', '42-003-42089', '42-003-42088',\n",
       "       '42-003-42087', '42-003-42085', '42-003-42084', '42-003-42083',\n",
       "       '42-003-42076', '42-003-42064', '42-003-42055', '42-003-42053',\n",
       "       '42-003-42051', '42-003-42023', '4200342023', '42-003-42013',\n",
       "       '42-003-42006', '42-003-42005', '42-003-42004', '42-003-42003',\n",
       "       '42-003-41956', '42-003-41934', '42-003-41933', '42-003-41921',\n",
       "       '42-003-41920', '42-003-41919', '42-003-41918', '42-003-41917',\n",
       "       '42-003-41916', '42-003-41915', '42-003-41914', '42-003-41910',\n",
       "       '42-003-41905', '42-003-41898', '42-003-41896', '42-003-41888',\n",
       "       '42-003-41887', '42-003-41883', '42-003-41882', '42-003-41881',\n",
       "       '42-003-41866', '42-003-41858', '42-003-41851', '7548661',\n",
       "       '42-003-41833', '42-003-41826', '42-003-41821', '42-003-41820',\n",
       "       '42-003-41818', '42-003-41816', '42-003-41802', '42-003-41772',\n",
       "       '42-003-41771', '42-003-41769', '42-003-41759', '42-003-41758',\n",
       "       '42-003-41756', '42-003-41739', '42-003-41738', '42-003-41720',\n",
       "       '42-003-41704', '42-003-41703', '42-003-41701', '42-003-41700',\n",
       "       '42-003-41686', '42-003-41685', '42-003-41684', '42-003-41682',\n",
       "       '42-003-41681', '42-003-41680', '4200341668', '42-003-41666',\n",
       "       '42-003-41665', '42-003-41658', '42-003-41613', '42-0034-1612',\n",
       "       '42-003-41592', '42-003-41587', '42-003-41572', '42-003-41566',\n",
       "       '42-003-41565', '42-003-41564', '42-003-41556', '42-003-41547',\n",
       "       '42-003-41546', '42-003-41515', '42-003-41513', '42-003-41497',\n",
       "       '42-003-41496', '42-003-41494', '42-003-41466', '42-003-41442',\n",
       "       '42-003-41438', '42-003-41434', '42-003-41427', '42-003-41418',\n",
       "       '42-003-41416', '42-003-41405', '42-003-41399', '42-003-41044',\n",
       "       '42-003-41371', '42-003-41370', '42-003-41367', '42-003-41360',\n",
       "       '42-003-41356', '42-003-41355', '42-003-41354', '42-003-41353',\n",
       "       '42-003-41348', '42-003-41339', '42-003-41311', '42-003-41310',\n",
       "       '4200341309', '42-003-41309', '42-003-41290', '42-003-41288',\n",
       "       '42-003-41276', '42-003-41275', '42-003-41273', '42-003-41272',\n",
       "       '42-003-41267', '42-003-41266', '42-003-41264', '42-003-41261',\n",
       "       '42-003-41260', '42-003-41251', '42-003-41250', '42-003-41247',\n",
       "       '42-003-41246', '42-003-41183', '42-003-41181', '42-003-41180',\n",
       "       '42-003-41177', '42-003-41176', '42-003-41166', '42-003-41165',\n",
       "       '42-003-41160', '42-003-41153', '42-003-41152', '42-003-41149',\n",
       "       '42-003-41124', '42-003-41116', '42-003-41102', '4200341102',\n",
       "       '42-003-41095', '42-003-41086', '42-003-41085', '42-003-41084',\n",
       "       '42-003-41083', '42-003-41071', '42-003-41068', '42-003-41048',\n",
       "       '42-003-41045', '42-003-41043', '42-003-41039', '42-003-41038',\n",
       "       '42-003-41036', '42-003-41034', '42-003-41031', '42-003-41030',\n",
       "       '42-003-41029', '42-003-40983', '42-003-40971', '42-003-40970',\n",
       "       '42-003-40960', '42-003-40959', '42-003-40918', '42-003-40899',\n",
       "       '42-003-40887', '42-003-40873', '42-003-40830', '42-003-40812',\n",
       "       '42-003-40807', '42-003-40802', '42-003-40753', '42-003-40740',\n",
       "       '42-003-40739', '42-003-40738', '42-003-40737', '42-003-40736',\n",
       "       '42-003-40731', '42-003-40728', '42-003-40721', '42-003-40720',\n",
       "       '42-003-40690', '42-003-40718', '42-003-40689', '42-003-40688',\n",
       "       '42-003-40687', '42-003-40686', '42-003-40685', '42-003-40682',\n",
       "       '42-003-40630', '42-003-40628', '42-003-40610', '42-003-40602',\n",
       "       '42-003-40597', '42-003-40592', '42-003 40589', '42-003-40580',\n",
       "       '42-003-40579', '42-003-40578', '42-003-40577', '42-003-40514',\n",
       "       '42-003-40512', '42-003-40497', '42-003-40449', '42-003-40434',\n",
       "       '42-003-40432', '42-003-40423', '42-003-40416', '42-003-40414',\n",
       "       '42-003-40400', '42-003-40399', '42-003-40377', '42-003-40375',\n",
       "       '42-003-40374', '42-003-40371', '42-003-40362', '42-003-40359',\n",
       "       '42-003-40349', '42-003-40348', '42-003-40346', '42-003-40338',\n",
       "       '420034033400', '42-003-40330', '42-003-40329', '42-003-40322',\n",
       "       '42-003-40318', '42-003-40238', '42-003-40223', '42--003-40075',\n",
       "       '42-003-40074', '42-003-40031', '42-003-40030', '4200340029',\n",
       "       '42-003-39975', '42-003-39973', '42-003-39889', '42-003-39650',\n",
       "       '42-003-38895', '420033871604', '420033865903', '42-003-38502',\n",
       "       '42-003-06572', '42-003-05620', '4200305182', '42-003-04639',\n",
       "       '42-003-04624', '4246135016', '42-475-35285', '424433057500'],\n",
       "      dtype=object)"
      ]
     },
     "execution_count": 42,
     "metadata": {},
     "output_type": "execute_result"
    }
   ],
   "source": [
    "df['API'][df['API'].str.len() != 14.0].unique()"
   ]
  },
  {
   "cell_type": "code",
   "execution_count": 34,
   "metadata": {},
   "outputs": [],
   "source": [
    "df['API'].where(df['API'].str.len() != 14, df['API'].str.replace('-',''), inplace=True)"
   ]
  },
  {
   "cell_type": "code",
   "execution_count": 26,
   "metadata": {},
   "outputs": [
    {
     "data": {
      "text/plain": [
       "0         4223932665000\n",
       "3                   NaN\n",
       "7                   NaN\n",
       "13      422390220900000\n",
       "17                  NaN\n",
       "             ...       \n",
       "4612                NaN\n",
       "4613                NaN\n",
       "4614       424433057500\n",
       "4615                NaN\n",
       "4616                NaN\n",
       "Name: API, Length: 3248, dtype: object"
      ]
     },
     "execution_count": 26,
     "metadata": {},
     "output_type": "execute_result"
    }
   ],
   "source": [
    "df['API'][df['API'].str.len() != 14.0]"
   ]
  },
  {
   "cell_type": "code",
   "execution_count": 25,
   "metadata": {},
   "outputs": [
    {
     "data": {
      "text/plain": [
       "0        True\n",
       "1       False\n",
       "2       False\n",
       "3        True\n",
       "4       False\n",
       "        ...  \n",
       "4612     True\n",
       "4613     True\n",
       "4614     True\n",
       "4615     True\n",
       "4616     True\n",
       "Name: API, Length: 4617, dtype: bool"
      ]
     },
     "execution_count": 25,
     "metadata": {},
     "output_type": "execute_result"
    }
   ],
   "source": [
    "df['API'].str.len() = 14"
   ]
  },
  {
   "cell_type": "code",
   "execution_count": 193,
   "metadata": {},
   "outputs": [],
   "source": [
    "from pet import Log\n",
    "\n",
    "well=Log(r'raw_las\\30015213240000_ROUND MOUNTAIN_1.las')"
   ]
  },
  {
   "cell_type": "code",
   "execution_count": 190,
   "metadata": {},
   "outputs": [
    {
     "data": {
      "text/plain": [
       "('3-00-152-132-40', '')"
      ]
     },
     "execution_count": 190,
     "metadata": {},
     "output_type": "execute_result"
    }
   ],
   "source": [
    "well.header['Well']['API'].value,well.header['Well']['UWI'].value"
   ]
  },
  {
   "cell_type": "code",
   "execution_count": 191,
   "metadata": {},
   "outputs": [],
   "source": [
    "# Clean API value\n",
    "if len(well.header['Well']['API'].value) != 14 or '-' in well.header['Well']['API'].value :\n",
    "    if well.header['Well']['UWI'].value and len(well.header['Well']['UWI'].value) == 14:\n",
    "        well.header['Well']['API'].value = well.header['Well']['UWI'].value\n",
    "    well.header['Well']['API'].value = well.header['Well']['API'].value.replace('-', '').replace(' ', '').ljust(14, '0')\n",
    "\n",
    "# Clean UWI value\n",
    "if len(well.header['Well']['UWI'].value) != 14 or '-' in well.header['Well']['UWI'].value:\n",
    "    if well.header['Well']['API'].value and len(well.header['Well']['API'].value) == 14:\n",
    "        well.header['Well']['UWI'].value = well.header['Well']['API'].value\n",
    "    well.header['Well']['UWI'].value = well.header['Well']['UWI'].value.replace('-', '').replace(' ', '').ljust(14, '0')"
   ]
  },
  {
   "cell_type": "code",
   "execution_count": null,
   "metadata": {},
   "outputs": [],
   "source": [
    "well.header['Well']['API'].value,well.header['Well']['UWI'].value"
   ]
  },
  {
   "cell_type": "code",
   "execution_count": 205,
   "metadata": {},
   "outputs": [],
   "source": [
    "import os\n",
    "import re\n",
    "\n",
    "file_name = os.path.basename(r'Z:\\LAS\\TWDB\\302125103022801.20100630.ZZ01.las')\n",
    "\n",
    "# Find a sequence of 10 or 14 digits\n",
    "match = re.search(r'\\b\\d[0-9]\\b', file_name)\n",
    "\n",
    "if match:\n",
    "    api = match.group()\n",
    "    print(api)"
   ]
  },
  {
   "cell_type": "code",
   "execution_count": null,
   "metadata": {},
   "outputs": [],
   "source": []
  }
 ],
 "metadata": {
  "kernelspec": {
   "display_name": "Python 3",
   "language": "python",
   "name": "python3"
  },
  "language_info": {
   "codemirror_mode": {
    "name": "ipython",
    "version": 3
   },
   "file_extension": ".py",
   "mimetype": "text/x-python",
   "name": "python",
   "nbconvert_exporter": "python",
   "pygments_lexer": "ipython3",
   "version": "3.10.11"
  },
  "orig_nbformat": 4
 },
 "nbformat": 4,
 "nbformat_minor": 2
}
