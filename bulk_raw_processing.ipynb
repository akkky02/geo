{
 "cells": [
  {
   "cell_type": "markdown",
   "metadata": {},
   "source": [
    "# Code to run precondition"
   ]
  },
  {
   "cell_type": "code",
   "execution_count": 1,
   "metadata": {},
   "outputs": [],
   "source": [
    "import logging\n",
    "import warnings\n",
    "import pet\n",
    "import glob\n",
    "\n",
    "# Configure the logger\n",
    "logging.basicConfig(level=logging.ERROR, filename='error_log\\error.log',\n",
    "                    format='%(asctime)s - %(message)s')\n",
    "\n",
    "# Ignore warnings\n",
    "warnings.filterwarnings(\"ignore\")\n",
    "\n",
    "#edited_las_folder = r'wfmp_edited_las/'\n",
    "raw_las_folder = r'raw_las/'\n",
    "las_files = glob.glob(raw_las_folder + r'*.las')\n",
    "\n",
    "processed_logs = []\n",
    "\n",
    "for las_file in las_files:\n",
    "    try:\n",
    "        log = pet.Log(las_file)\n",
    "\n",
    "        # comment out transformation not needed\n",
    "        # log.precondition(drho_matrix = 2.71, n = 15) make changes as needed\n",
    "        # drho_matrix : float, optional\n",
    "        # drho_matrix is for converting density porosity to bulk\n",
    "        # densty, and is only used when bulk density is missing.\n",
    "        # Default value for limestone matrix. If log was run on\n",
    "        # sandstone matrix, use 2.65. If log was run on dolomite\n",
    "        # matrix, use 2.85.\n",
    "\n",
    "        log.precondition(n=5)\n",
    "\n",
    "        processed_logs.append(log)\n",
    "\n",
    "        # Get the well name from the log object\n",
    "        well_name = log.well['UWI'].value.replace('.', '')\n",
    "\n",
    "        # Create the new filename\n",
    "        edited_las_file = f'edited_las/{well_name}_edited.las'\n",
    "\n",
    "        # Write the processed log to the new filename\n",
    "        log.write(edited_las_file)\n",
    "    except Exception as e:\n",
    "        print(f\"An error occurred while processing {las_file}: {str(e)}\")\n",
    "        logging.error(f\"An error occurred while processing {las_file}: {str(e)}\")\n",
    "        continue"
   ]
  },
  {
   "cell_type": "markdown",
   "metadata": {},
   "source": [
    "# Code to run fluid_properties"
   ]
  },
  {
   "cell_type": "code",
   "execution_count": 2,
   "metadata": {},
   "outputs": [
    {
     "name": "stdout",
     "output_type": "stream",
     "text": [
      "An error occurred while processing edited_las\\30015213240000_edited.las: Raw curve NPHI not found and is                              required for multimineral_model.\n",
      "An error occurred while processing edited_las\\30015215210000_edited.las: Raw curve NPHI not found and is                              required for multimineral_model.\n"
     ]
    },
    {
     "ename": "KeyboardInterrupt",
     "evalue": "",
     "output_type": "error",
     "traceback": [
      "\u001b[1;31m---------------------------------------------------------------------------\u001b[0m",
      "\u001b[1;31mKeyboardInterrupt\u001b[0m                         Traceback (most recent call last)",
      "Cell \u001b[1;32mIn[2], line 24\u001b[0m\n\u001b[0;32m     21\u001b[0m log \u001b[39m=\u001b[39m pet\u001b[39m.\u001b[39mLog(las_file)\n\u001b[0;32m     23\u001b[0m log\u001b[39m.\u001b[39mfluid_properties()\n\u001b[1;32m---> 24\u001b[0m log\u001b[39m.\u001b[39;49mmultimineral_model()\n\u001b[0;32m     26\u001b[0m processed_logs\u001b[39m.\u001b[39mappend(log)\n\u001b[0;32m     28\u001b[0m \u001b[39m# Get the well name from the log object\u001b[39;00m\n",
      "File \u001b[1;32mc:\\Users\\apatil\\OneDrive - Silver Hill\\Documents\\Git\\geo\\pet.py:1621\u001b[0m, in \u001b[0;36mLog.multimineral_model\u001b[1;34m(self, top, bottom, gr_matrix, nphi_matrix, gr_clay, rho_clay, nphi_clay, pe_clay, rma, rt_clay, vclay_linear_weight, vclay_clavier_weight, vclay_larionov_weight, vclay_nphi_weight, vclay_nphi_rhob_weight, vclay_cutoff, rho_om, nphi_om, pe_om, ro, lang_press, passey_nphi_weight, passey_rhob_weight, passey_lom, passey_baseline_res, passey_baseline_rhob, passey_baseline_nphi, schmoker_weight, schmoker_slope, schmoker_baseline_rhob, rho_pyr, nphi_pyr, pe_pyr, om_pyrite_slope, include_qtz, rho_qtz, nphi_qtz, pe_qtz, include_clc, rho_clc, nphi_clc, pe_clc, include_dol, rho_dol, nphi_dol, pe_dol, include_x, name_x, name_log_x, rho_x, nphi_x, pe_x, pe_fl, m, n, a, archie_weight, indonesia_weight, simandoux_weight, modified_simandoux_weight, waxman_smits_weight, cec, buckles_parameter)\u001b[0m\n\u001b[0;32m   1612\u001b[0m \u001b[39melse\u001b[39;00m:\n\u001b[0;32m   1613\u001b[0m     c \u001b[39m=\u001b[39m np\u001b[39m.\u001b[39mhstack((c_clean, np\u001b[39m.\u001b[39masarray(\n\u001b[0;32m   1614\u001b[0m                     (\n\u001b[0;32m   1615\u001b[0m                         (rho_om, rho_clay, rho_pyr),\n\u001b[1;32m   (...)\u001b[0m\n\u001b[0;32m   1618\u001b[0m                     )\n\u001b[0;32m   1619\u001b[0m               ))\n\u001b[1;32m-> 1621\u001b[0m bv \u001b[39m=\u001b[39m np\u001b[39m.\u001b[39;49mappend(bv_clean, (bvom, bvclay, bvpyr))\n\u001b[0;32m   1623\u001b[0m l_hat \u001b[39m=\u001b[39m np\u001b[39m.\u001b[39mdot(c, bv)\n\u001b[0;32m   1625\u001b[0m sse \u001b[39m=\u001b[39m np\u001b[39m.\u001b[39mdot((l \u001b[39m-\u001b[39m l_hat)\u001b[39m.\u001b[39mT, l \u001b[39m-\u001b[39m l_hat)\n",
      "File \u001b[1;32m<__array_function__ internals>:200\u001b[0m, in \u001b[0;36mappend\u001b[1;34m(*args, **kwargs)\u001b[0m\n",
      "File \u001b[1;32mc:\\Users\\apatil\\AppData\\Local\\Programs\\Python\\Python310\\lib\\site-packages\\numpy\\lib\\function_base.py:5499\u001b[0m, in \u001b[0;36mappend\u001b[1;34m(arr, values, axis)\u001b[0m\n\u001b[0;32m   5497\u001b[0m     values \u001b[39m=\u001b[39m ravel(values)\n\u001b[0;32m   5498\u001b[0m     axis \u001b[39m=\u001b[39m arr\u001b[39m.\u001b[39mndim\u001b[39m-\u001b[39m\u001b[39m1\u001b[39m\n\u001b[1;32m-> 5499\u001b[0m \u001b[39mreturn\u001b[39;00m concatenate((arr, values), axis\u001b[39m=\u001b[39;49maxis)\n",
      "File \u001b[1;32m<__array_function__ internals>:200\u001b[0m, in \u001b[0;36mconcatenate\u001b[1;34m(*args, **kwargs)\u001b[0m\n",
      "\u001b[1;31mKeyboardInterrupt\u001b[0m: "
     ]
    }
   ],
   "source": [
    "import logging\n",
    "import warnings\n",
    "import pet\n",
    "import glob\n",
    "\n",
    "# Configure the logger\n",
    "logging.basicConfig(level=logging.ERROR, filename='error_log\\error.log',\n",
    "                    format='%(asctime)s - %(message)s')\n",
    "\n",
    "# Ignore warnings\n",
    "warnings.filterwarnings(\"ignore\")\n",
    "\n",
    "#edited_las_folder = r'wfmp_edited_las/'\n",
    "edited_las_folder = r'edited_las/'\n",
    "las_files = glob.glob(edited_las_folder + r'*.las')\n",
    "\n",
    "processed_logs = []\n",
    "\n",
    "for las_file in las_files:\n",
    "    try:\n",
    "        log = pet.Log(las_file)\n",
    "\n",
    "        log.fluid_properties()\n",
    "        log.multimineral_model()\n",
    "        \n",
    "        processed_logs.append(log)\n",
    "\n",
    "        # Get the well name from the log object\n",
    "        well_name = log.well['UWI'].value.replace('.', '')\n",
    "\n",
    "        # Create the new filename\n",
    "        processed_las_file = f'processed_las/{well_name}_processed.las'\n",
    "\n",
    "        # Write the processed log to the new filename\n",
    "        log.write(processed_las_file)\n",
    "    except Exception as e:\n",
    "        print(f\"An error occurred while processing {las_file}: {str(e)}\")\n",
    "        logging.error(f\"An error occurred while processing {las_file}: {str(e)}\")\n",
    "        continue"
   ]
  },
  {
   "cell_type": "code",
   "execution_count": 2,
   "metadata": {},
   "outputs": [],
   "source": [
    "import logging\n",
    "import warnings\n",
    "import pet\n",
    "import glob\n",
    "\n",
    "# Configure the logger\n",
    "logging.basicConfig(level=logging.ERROR, filename='error_log\\error.log',\n",
    "                    format='%(asctime)s - %(message)s')\n",
    "\n",
    "# Ignore warnings\n",
    "warnings.filterwarnings(\"ignore\")\n",
    "\n",
    "#edited_las_folder = r'wfmp_edited_las/'\n",
    "# edited_las_folder = r'edited_las/'\n",
    "# las_files = glob.glob(edited_las_folder + r'*.las')\n",
    "las_files = ['raw_las/30015420120000_SIMPSON-CDM COM_001H.las']\n",
    "processed_logs = []\n",
    "\n",
    "for las_file in las_files:\n",
    "    try:\n",
    "        log = pet.Log(las_file)\n",
    "\n",
    "        log.precondition(n = 7)\n",
    "        log.fluid_properties()\n",
    "        log.multimineral_model()\n",
    "        \n",
    "        processed_logs.append(log)\n",
    "\n",
    "        # Get the well name from the log object\n",
    "        well_name = log.well['UWI'].value.replace('.', '')\n",
    "\n",
    "        # Create the new filename\n",
    "        processed_las_file = f'processed_las/{well_name}_processed.las'\n",
    "\n",
    "        # Write the processed log to the new filename\n",
    "        log.write(processed_las_file)\n",
    "    except Exception as e:\n",
    "        print(f\"An error occurred while processing {las_file}: {str(e)}\")\n",
    "        logging.error(f\"An error occurred while processing {las_file}: {str(e)}\")\n",
    "        continue"
   ]
  },
  {
   "cell_type": "code",
   "execution_count": null,
   "metadata": {},
   "outputs": [],
   "source": []
  }
 ],
 "metadata": {
  "kernelspec": {
   "display_name": "Python 3",
   "language": "python",
   "name": "python3"
  },
  "language_info": {
   "codemirror_mode": {
    "name": "ipython",
    "version": 3
   },
   "file_extension": ".py",
   "mimetype": "text/x-python",
   "name": "python",
   "nbconvert_exporter": "python",
   "pygments_lexer": "ipython3",
   "version": "3.10.11"
  },
  "orig_nbformat": 4
 },
 "nbformat": 4,
 "nbformat_minor": 2
}
