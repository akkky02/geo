{
 "cells": [
  {
   "cell_type": "code",
   "execution_count": 1,
   "metadata": {},
   "outputs": [
    {
     "name": "stdout",
     "output_type": "stream",
     "text": [
      "An error occurred while processing raw_las\\42317336160000_NESTE-SLIMLINE_1.las: None of the curves from the standard_curves list are present in the data.\n"
     ]
    }
   ],
   "source": [
    "import logging\n",
    "import warnings\n",
    "import pet\n",
    "import glob\n",
    "\n",
    "# Configure the logger\n",
    "logging.basicConfig(level=logging.ERROR, filename='error_log\\error.log',\n",
    "                    format='%(asctime)s - %(message)s')\n",
    "\n",
    "# Ignore warnings\n",
    "warnings.filterwarnings(\"ignore\")\n",
    "\n",
    "#raw_las_folder = r'wfmp_raw_las/'\n",
    "raw_las_folder = r'raw_las/'\n",
    "las_files = glob.glob(raw_las_folder + r'*.las')\n",
    "\n",
    "processed_logs = []\n",
    "\n",
    "for las_file in las_files:\n",
    "    try:\n",
    "        log = pet.Log(las_file)\n",
    "\n",
    "        # comment out transformation not needed\n",
    "        # try:\n",
    "        #     log.precondition()\n",
    "        # except Exception as e1:\n",
    "        #     #print(f\"An error occurred while precondition {las_file}: {str(e1)}\")\n",
    "        #     logging.error(f\"An error occurred while precondition {las_file}: {str(e1)}\")\n",
    "        log.precondition()\n",
    "\n",
    "        # try:\n",
    "        #     log.despike_lfilter(n=15)\n",
    "        # except Exception as e1:\n",
    "        #     print(f\"An error occurred while despiking {las_file}: {str(e1)}\")\n",
    "        #     logging.error(f\"An error occurred while despiking {las_file}: {str(e1)}\")\n",
    "\n",
    "        # try:\n",
    "        #     log.fluid_properties()\n",
    "        # except Exception as e2:\n",
    "        #     print(f\"An error occurred while computing fluid properties for {las_file}: {str(e2)}\")\n",
    "        #     logging.error(f\"An error occurred while computing fluid properties for {las_file}: {str(e2)}\")\n",
    "\n",
    "        # try:\n",
    "        #     log.multimineral_model()\n",
    "        # except Exception as e3:\n",
    "        #     print(f\"An error occurred while computing multimineral model for {las_file}: {str(e3)}\")\n",
    "        #     logging.error(f\"An error occurred while computing multimineral model for {las_file}: {str(e3)}\")\n",
    "        \n",
    "        processed_logs.append(log)\n",
    "\n",
    "        # Get the well name from the log object\n",
    "        well_name = log.well['UWI'].value.replace('.', '')\n",
    "\n",
    "        # Create the new filename\n",
    "        edited_las_file = f'edited_las/{well_name}_edited.las'\n",
    "\n",
    "        # Write the processed log to the new filename\n",
    "        log.write(edited_las_file)\n",
    "    except Exception as e:\n",
    "        print(f\"An error occurred while processing {las_file}: {str(e)}\")\n",
    "        logging.error(f\"An error occurred while processing {las_file}: {str(e)}\")\n",
    "        continue"
   ]
  }
 ],
 "metadata": {
  "kernelspec": {
   "display_name": "Python 3",
   "language": "python",
   "name": "python3"
  },
  "language_info": {
   "codemirror_mode": {
    "name": "ipython",
    "version": 3
   },
   "file_extension": ".py",
   "mimetype": "text/x-python",
   "name": "python",
   "nbconvert_exporter": "python",
   "pygments_lexer": "ipython3",
   "version": "3.10.11"
  },
  "orig_nbformat": 4
 },
 "nbformat": 4,
 "nbformat_minor": 2
}
